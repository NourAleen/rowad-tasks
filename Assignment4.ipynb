{
 "cells": [
  {
   "cell_type": "markdown",
   "metadata": {
    "vscode": {
     "languageId": "plaintext"
    }
   },
   "source": [
    "# Assignment3 : **Linear Algebra, Statistics using Classes**\n",
    "\n",
    "**Goal and Objective:**\n",
    "\n",
    "In this notebook, you will combine core concepts from **Linear Algebra**, **Statistics** using Python classes. You will implement key operations for matrices, vectors, and descriotive statistical operations. The goal is to reinforce your understanding of mathematical and statistical methods, all while practicing object-oriented programming.\n",
    "\n",
    "**Learning Objectives:**\n",
    "- Understand and implement key **Linear Algebra** operations using classes in Python.\n",
    "- Perform **statistical analysis** using Python classes to compute common statistics.\n",
    "- Use **object-oriented principles** to structure the code effectively.\n",
    "- Only allowd to use pure python ,numpy , and math if needed.\n",
    "\n",
    "### **Guidelines**\n",
    "\n",
    "#### **Requirements (Musts):**\n",
    "1. Avoid using ChatGPT or similar LLM tools for problem-solving. You may, however, use these tools for clarifications or guidance if you're stuck.\n",
    "2. Provide **clear comments** in your code to explain your logic and include **docstrings** for all functions.\n",
    "3. Use only the provided test cases to validate your implementations. Avoid creating additional examples.\n",
    "4. Include **error handling** for scenarios like incompatible matrix sizes or invalid inputs.\n",
    "\n",
    "#### **Recommendations:**\n",
    "1. Use **Numpy** for handling matrices and vectors where applicable instead of lists.\n",
    "2. Validate input data to ensure it meets the expected criteria (e.g., correct data types, non-empty data).\n",
    "3. Implement the `__str__` method for a user-friendly string representation of your objects.\n",
    "4. Use the `return` keyword for methods where results might need to be accessed externally.\n",
    "5. Use **descriptive** attributes and method names.\n",
    "6. Add **descriptive comments** to clarify your thought process in implementing each method.\n",
    "\n",
    "\n",
    "### **Submission Instructions**\n",
    "1. Submit your work as a single `.ipynb` file within the notebook provided.\n",
    "2. Do not compress the file unless specifically required by the LMS.\n",
    "3. Ensure all cells are executed, and your code runs without errors. Include outputs for all test cases.\n",
    "4. Retain the outputs in your submission; avoid clearing them before finalizing your work. "
   ]
  },
  {
   "cell_type": "markdown",
   "metadata": {},
   "source": [
    "-----\n",
    "# **Assignment Questions**"
   ]
  },
  {
   "cell_type": "markdown",
   "metadata": {
    "vscode": {
     "languageId": "plaintext"
    }
   },
   "source": [
    "### **Q1: Vector Operation in Linear Algebra with Python Classes**\n",
    "\n",
    "**Objective**  \n",
    "In this task, you are required to create a `Vector` class that supports essential vector operations. Each method should follow the principles of **Linear Algebra** while also ensuring proper validation of inputs.\n",
    "\n",
    "**Initialization**: Accept a list or tuple representing a vector.\n",
    "\n",
    "**Methods to Implement**:\n",
    "  - `add`: Adds two vectors.\n",
    "  - `subtract`: Subtracts two vectors.\n",
    "  - `dot`: Compute the dot product with another vector.\n",
    "  - `magnitude`: Computes the magnitude (Euclidean norm) of a vector.\n",
    "  - `scalar_multiply`: Multiplies a vector by a scalar.\n",
    "  - `normalize`: Return a normalized version of the vector.\n",
    "\n",
    "> **It is essential** to verify the Linear Algebra conditions for each method before performing the operation, and raise an error if the conditions are not met. For example: check the size of the matrix for multiplication.\n"
   ]
  },
  {
   "cell_type": "code",
   "execution_count": 1,
   "metadata": {},
   "outputs": [],
   "source": [
    "# TODO: Implement your Vector Class\n",
    "import math\n",
    "\n",
    "class Vector:\n",
    "    def __init__(self, values):\n",
    "        if not isinstance(values, (list, tuple)):\n",
    "            raise ValueError(\"Vector should be initialized with a list or tuple.\")\n",
    "        self.values = list(values)\n",
    "\n",
    "    def __repr__(self):\n",
    "        return f\"Vector({self.values})\"\n",
    "\n",
    "    def add(self, other):\n",
    "        if len(self.values) != len(other.values):\n",
    "            raise ValueError(\"Vectors must have the same length.\")\n",
    "        return Vector([a + b for a, b in zip(self.values, other.values)])\n",
    "\n",
    "    def subtract(self, other):\n",
    "        if len(self.values) != len(other.values):\n",
    "            raise ValueError(\"Vectors must have the same length.\")\n",
    "        return Vector([a - b for a, b in zip(self.values, other.values)])\n",
    "\n",
    "    def dot(self, other):\n",
    "        if len(self.values) != len(other.values):\n",
    "            raise ValueError(\"Vectors must have the same length.\")\n",
    "        return sum(a * b for a, b in zip(self.values, other.values))\n",
    "\n",
    "    def magnitude(self):\n",
    "        return math.sqrt(sum(x ** 2 for x in self.values))\n",
    "\n",
    "    def scalar_multiply(self, scalar):\n",
    "        return Vector([x * scalar for x in self.values])\n",
    "\n",
    "    def normalize(self):\n",
    "        mag = self.magnitude()\n",
    "        if mag == 0:\n",
    "            raise ValueError(\"Cannot normalize a zero vector.\")\n",
    "        return self.scalar_multiply(1 / mag)"
   ]
  },
  {
   "cell_type": "code",
   "execution_count": 2,
   "metadata": {},
   "outputs": [
    {
     "name": "stdout",
     "output_type": "stream",
     "text": [
      "v1+v2: Vector([5, 7, 9])\n",
      "v1-v2 : Vector([-3, -3, -3])\n",
      "Magnitude of v1: 3.7416573867739413\n",
      "v1 * 2: Vector([2, 4, 6])\n"
     ]
    }
   ],
   "source": [
    "# Test all the operation on Vector Class\n",
    "v1 = Vector([1, 2, 3])  # or Vector((1, 2, 3)) but don't use numpy in this line \n",
    "v2 = Vector((4, 5, 6))  # or Vector((1, 2, 3)) but don't use numpy in this line \n",
    "\n",
    "# TODO:  Add two vectors\n",
    "result =  v1.add(v2)\n",
    "print(\"v1+v2:\", result)                 # Expected: Vector([5, 7, 9])\n",
    "\n",
    "# TODO: Subtract two vectors\n",
    "result = v1.subtract(v2)\n",
    "print(\"v1-v2 :\", result)                # Expected: Vector([-3, -3, -3])\n",
    "\n",
    "# TODO: Magnitude of vector v1\n",
    "result = v1.magnitude()\n",
    "print(\"Magnitude of v1:\", result)       # Expected: 3.7416573867739413\n",
    "\n",
    "# TODO: Scalar multiplication of vector v1 by 2\n",
    "result = v1.scalar_multiply(2)\n",
    "print(\"v1 * 2:\", result)  # Expected: Vector([2, 4, 6])"
   ]
  },
  {
   "cell_type": "markdown",
   "metadata": {},
   "source": [
    "### **Q2: Matrix Operation in Linear Algebra with Python Classes**\n",
    "**Objective**  \n",
    "In this task, you are required to create a `Matrix` class that can represent matrices and support a range of matrix operations. Here's the breakdown of the requirements:\n",
    "\n",
    "**Initialization**: Accept a 2D list or nested list as matrix input.\n",
    "**Methods to Implement**:\n",
    "  - `add`: Adds two matrices.\n",
    "  - `sub`: Substracts two matrices.\n",
    "  - `multiply`: Multiplies two matrices.\n",
    "  - `scalar_multiply`: multiply a matrix by scaler.\n",
    "  - `transpose`: Transposes the matrix.\n",
    "  - `determinant`: Calculates the determinant.\n",
    "  - `inverse`: Computes the inverse of a matrix.\n",
    "\n",
    "> **It is essential** to verify the Linear Algebra conditions for each method before performing the operation, and raise an error if the conditions are not met. For example: check the size of the matrix for multiplication.\n"
   ]
  },
  {
   "cell_type": "code",
   "execution_count": 3,
   "metadata": {},
   "outputs": [],
   "source": [
    "# TODO: Implement you Vector Class\n",
    "class Matrix:\n",
    "    def __init__(self, values):\n",
    "        if not all(isinstance(row, list) for row in values):\n",
    "            raise ValueError(\"Matrix should be initialized with a 2D list.\")\n",
    "        if len(set(len(row) for row in values)) > 1:\n",
    "            raise ValueError(\"All rows must have the same length.\")\n",
    "        self.values = values\n",
    "        self.rows = len(values)\n",
    "        self.cols = len(values[0])\n",
    "\n",
    "    def __repr__(self):\n",
    "        return f\"Matrix({self.values})\"\n",
    "\n",
    "    def add(self, other):\n",
    "        if self.rows != other.rows or self.cols != other.cols:\n",
    "            raise ValueError(\"Matrices must have the same dimensions for addition.\")\n",
    "        return Matrix([[self.values[i][j] + other.values[i][j] for j in range(self.cols)] for i in range(self.rows)])\n",
    "\n",
    "    def subtract(self, other):\n",
    "        if self.rows != other.rows or self.cols != other.cols:\n",
    "            raise ValueError(\"Matrices must have the same dimensions for subtraction.\")\n",
    "        return Matrix([[self.values[i][j] - other.values[i][j] for j in range(self.cols)] for i in range(self.rows)])\n",
    "\n",
    "    def scalar_multiply(self, scalar):\n",
    "        return Matrix([[scalar * self.values[i][j] for j in range(self.cols)] for i in range(self.rows)])\n",
    "\n",
    "    def multiply(self, other):\n",
    "        if self.cols != other.rows:\n",
    "            raise ValueError(\"Number of columns in the first matrix must equal the number of rows in the second.\")\n",
    "        return Matrix([[sum(self.values[i][k] * other.values[k][j] for k in range(self.cols)) for j in range(other.cols)] for i in range(self.rows)])\n",
    "\n",
    "    def transpose(self):\n",
    "        return Matrix([[self.values[j][i] for j in range(self.rows)] for i in range(self.cols)])\n",
    "\n",
    "    def determinant(self):\n",
    "        if self.rows != self.cols:\n",
    "            raise ValueError(\"Determinant can only be calculated for square matrices.\")\n",
    "        if self.rows == 2:\n",
    "            return self.values[0][0] * self.values[1][1] - self.values[0][1] * self.values[1][0]\n",
    "        raise NotImplementedError(\"Determinant for matrices larger than 2x2 is not implemented.\")\n",
    "\n",
    "    def inverse(self):\n",
    "        if self.rows != 2 or self.cols != 2:\n",
    "            raise NotImplementedError(\"Inverse is only implemented for 2x2 matrices.\")\n",
    "        det = self.determinant()\n",
    "        if det == 0:\n",
    "            raise ValueError(\"Matrix is not invertible.\")\n",
    "        return Matrix([[self.values[1][1] / det, -self.values[0][1] / det],\n",
    "                       [-self.values[1][0] / det, self.values[0][0] / det]])"
   ]
  },
  {
   "cell_type": "code",
   "execution_count": 4,
   "metadata": {},
   "outputs": [
    {
     "name": "stdout",
     "output_type": "stream",
     "text": [
      "m1 + m2: Matrix([[6, 8], [10, 12]])\n",
      "m1 - m2: Matrix([[-4, -4], [-4, -4]])\n",
      "m1 x m2: Matrix([[19, 22], [43, 50]])\n",
      "m1 muliplied by 2: Matrix([[2, 4], [6, 8]])\n",
      "m1 Transpose: Matrix([[1, 3], [2, 4]])\n",
      "m1 Determinant: -2\n",
      "m1 inverse: Matrix([[-2.0, 1.0], [1.5, -0.5]])\n"
     ]
    }
   ],
   "source": [
    "# Test with some matrix operations\n",
    "m1 = Matrix([[1, 2], [3, 4]]) # don't use numpy in this line \n",
    "m2 = Matrix([[5, 6], [7, 8]]) # don't use numpy in this line \n",
    "\n",
    "# TODO: Test matrix addition\n",
    "result = m1.add(m2)\n",
    "print(\"m1 + m2:\", result) \n",
    "\n",
    "# TODO: Test matrix sunstraction\n",
    "result = m1.subtract(m2)\n",
    "print(\"m1 - m2:\", result) \n",
    "\n",
    "# TODO: Test matrix multiplication\n",
    "result = m1.multiply(m2)\n",
    "print(\"m1 x m2:\", result) \n",
    "\n",
    "# TODO: Test scalar multiplication by 2\n",
    "result = m1.scalar_multiply(2)\n",
    "print(\"m1 muliplied by 2:\", result) \n",
    "\n",
    "# TODO: Test matrix transpose\n",
    "result = m1.transpose()\n",
    "print(\"m1 Transpose:\", result) \n",
    "\n",
    "# TODO: Test matrix determinant\n",
    "result = m1.determinant()\n",
    "print(\"m1 Determinant:\", result)  \n",
    "\n",
    "# TODO: Test matrix inverse\n",
    "result = m1.inverse()\n",
    "print(\"m1 inverse:\", result)  \n"
   ]
  },
  {
   "cell_type": "code",
   "execution_count": null,
   "metadata": {},
   "outputs": [],
   "source": []
  }
 ],
 "metadata": {
  "kernelspec": {
   "display_name": "Python 3 (ipykernel)",
   "language": "python",
   "name": "python3"
  },
  "language_info": {
   "codemirror_mode": {
    "name": "ipython",
    "version": 3
   },
   "file_extension": ".py",
   "mimetype": "text/x-python",
   "name": "python",
   "nbconvert_exporter": "python",
   "pygments_lexer": "ipython3",
   "version": "3.11.5"
  }
 },
 "nbformat": 4,
 "nbformat_minor": 2
}
